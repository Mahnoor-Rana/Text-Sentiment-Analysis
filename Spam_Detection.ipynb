{
 "cells": [
  {
   "cell_type": "code",
   "execution_count": 1,
   "id": "bfa003ac",
   "metadata": {},
   "outputs": [],
   "source": [
    "import pandas as pd \n",
    "import numpy as np\n",
    "import seaborn as sns\n",
    "import matplotlib.pyplot as plt\n",
    "import string\n",
    "from nltk.corpus import stopwords"
   ]
  },
  {
   "cell_type": "code",
   "execution_count": 2,
   "id": "9032d274",
   "metadata": {},
   "outputs": [
    {
     "data": {
      "text/html": [
       "<div>\n",
       "<style scoped>\n",
       "    .dataframe tbody tr th:only-of-type {\n",
       "        vertical-align: middle;\n",
       "    }\n",
       "\n",
       "    .dataframe tbody tr th {\n",
       "        vertical-align: top;\n",
       "    }\n",
       "\n",
       "    .dataframe thead th {\n",
       "        text-align: right;\n",
       "    }\n",
       "</style>\n",
       "<table border=\"1\" class=\"dataframe\">\n",
       "  <thead>\n",
       "    <tr style=\"text-align: right;\">\n",
       "      <th></th>\n",
       "      <th>v1</th>\n",
       "      <th>v2</th>\n",
       "      <th>Unnamed: 2</th>\n",
       "      <th>Unnamed: 3</th>\n",
       "      <th>Unnamed: 4</th>\n",
       "    </tr>\n",
       "  </thead>\n",
       "  <tbody>\n",
       "    <tr>\n",
       "      <th>0</th>\n",
       "      <td>ham</td>\n",
       "      <td>Go until jurong point, crazy.. Available only ...</td>\n",
       "      <td>NaN</td>\n",
       "      <td>NaN</td>\n",
       "      <td>NaN</td>\n",
       "    </tr>\n",
       "    <tr>\n",
       "      <th>1</th>\n",
       "      <td>ham</td>\n",
       "      <td>Ok lar... Joking wif u oni...</td>\n",
       "      <td>NaN</td>\n",
       "      <td>NaN</td>\n",
       "      <td>NaN</td>\n",
       "    </tr>\n",
       "    <tr>\n",
       "      <th>2</th>\n",
       "      <td>spam</td>\n",
       "      <td>Free entry in 2 a wkly comp to win FA Cup fina...</td>\n",
       "      <td>NaN</td>\n",
       "      <td>NaN</td>\n",
       "      <td>NaN</td>\n",
       "    </tr>\n",
       "    <tr>\n",
       "      <th>3</th>\n",
       "      <td>ham</td>\n",
       "      <td>U dun say so early hor... U c already then say...</td>\n",
       "      <td>NaN</td>\n",
       "      <td>NaN</td>\n",
       "      <td>NaN</td>\n",
       "    </tr>\n",
       "    <tr>\n",
       "      <th>4</th>\n",
       "      <td>ham</td>\n",
       "      <td>Nah I don't think he goes to usf, he lives aro...</td>\n",
       "      <td>NaN</td>\n",
       "      <td>NaN</td>\n",
       "      <td>NaN</td>\n",
       "    </tr>\n",
       "  </tbody>\n",
       "</table>\n",
       "</div>"
      ],
      "text/plain": [
       "     v1                                                 v2 Unnamed: 2  \\\n",
       "0   ham  Go until jurong point, crazy.. Available only ...        NaN   \n",
       "1   ham                      Ok lar... Joking wif u oni...        NaN   \n",
       "2  spam  Free entry in 2 a wkly comp to win FA Cup fina...        NaN   \n",
       "3   ham  U dun say so early hor... U c already then say...        NaN   \n",
       "4   ham  Nah I don't think he goes to usf, he lives aro...        NaN   \n",
       "\n",
       "  Unnamed: 3 Unnamed: 4  \n",
       "0        NaN        NaN  \n",
       "1        NaN        NaN  \n",
       "2        NaN        NaN  \n",
       "3        NaN        NaN  \n",
       "4        NaN        NaN  "
      ]
     },
     "execution_count": 2,
     "metadata": {},
     "output_type": "execute_result"
    }
   ],
   "source": [
    "df = pd.read_csv(\"spam.csv\")\n",
    "df.head()"
   ]
  },
  {
   "cell_type": "code",
   "execution_count": 3,
   "id": "886293e8",
   "metadata": {},
   "outputs": [
    {
     "data": {
      "text/plain": [
       "(5572, 5)"
      ]
     },
     "execution_count": 3,
     "metadata": {},
     "output_type": "execute_result"
    }
   ],
   "source": [
    "df.shape"
   ]
  },
  {
   "cell_type": "code",
   "execution_count": 4,
   "id": "c7aa3223",
   "metadata": {},
   "outputs": [
    {
     "data": {
      "text/plain": [
       "v1               0\n",
       "v2               0\n",
       "Unnamed: 2    5522\n",
       "Unnamed: 3    5560\n",
       "Unnamed: 4    5566\n",
       "dtype: int64"
      ]
     },
     "execution_count": 4,
     "metadata": {},
     "output_type": "execute_result"
    }
   ],
   "source": [
    "df.isnull().sum()"
   ]
  },
  {
   "cell_type": "code",
   "execution_count": 5,
   "id": "71af1f56",
   "metadata": {},
   "outputs": [],
   "source": [
    "df_1 = df.drop(['Unnamed: 2','Unnamed: 3','Unnamed: 4'], axis = 1)"
   ]
  },
  {
   "cell_type": "code",
   "execution_count": 6,
   "id": "934d69b2",
   "metadata": {},
   "outputs": [
    {
     "data": {
      "text/plain": [
       "403"
      ]
     },
     "execution_count": 6,
     "metadata": {},
     "output_type": "execute_result"
    }
   ],
   "source": [
    "df_1.duplicated().sum()"
   ]
  },
  {
   "cell_type": "code",
   "execution_count": 7,
   "id": "1f069907",
   "metadata": {},
   "outputs": [
    {
     "data": {
      "text/html": [
       "<div>\n",
       "<style scoped>\n",
       "    .dataframe tbody tr th:only-of-type {\n",
       "        vertical-align: middle;\n",
       "    }\n",
       "\n",
       "    .dataframe tbody tr th {\n",
       "        vertical-align: top;\n",
       "    }\n",
       "\n",
       "    .dataframe thead th {\n",
       "        text-align: right;\n",
       "    }\n",
       "</style>\n",
       "<table border=\"1\" class=\"dataframe\">\n",
       "  <thead>\n",
       "    <tr style=\"text-align: right;\">\n",
       "      <th></th>\n",
       "      <th>v1</th>\n",
       "      <th>v2</th>\n",
       "    </tr>\n",
       "  </thead>\n",
       "  <tbody>\n",
       "    <tr>\n",
       "      <th>0</th>\n",
       "      <td>ham</td>\n",
       "      <td>Go until jurong point, crazy.. Available only ...</td>\n",
       "    </tr>\n",
       "    <tr>\n",
       "      <th>1</th>\n",
       "      <td>ham</td>\n",
       "      <td>Ok lar... Joking wif u oni...</td>\n",
       "    </tr>\n",
       "    <tr>\n",
       "      <th>2</th>\n",
       "      <td>spam</td>\n",
       "      <td>Free entry in 2 a wkly comp to win FA Cup fina...</td>\n",
       "    </tr>\n",
       "    <tr>\n",
       "      <th>3</th>\n",
       "      <td>ham</td>\n",
       "      <td>U dun say so early hor... U c already then say...</td>\n",
       "    </tr>\n",
       "    <tr>\n",
       "      <th>4</th>\n",
       "      <td>ham</td>\n",
       "      <td>Nah I don't think he goes to usf, he lives aro...</td>\n",
       "    </tr>\n",
       "    <tr>\n",
       "      <th>...</th>\n",
       "      <td>...</td>\n",
       "      <td>...</td>\n",
       "    </tr>\n",
       "    <tr>\n",
       "      <th>5567</th>\n",
       "      <td>spam</td>\n",
       "      <td>This is the 2nd time we have tried 2 contact u...</td>\n",
       "    </tr>\n",
       "    <tr>\n",
       "      <th>5568</th>\n",
       "      <td>ham</td>\n",
       "      <td>Will �_ b going to esplanade fr home?</td>\n",
       "    </tr>\n",
       "    <tr>\n",
       "      <th>5569</th>\n",
       "      <td>ham</td>\n",
       "      <td>Pity, * was in mood for that. So...any other s...</td>\n",
       "    </tr>\n",
       "    <tr>\n",
       "      <th>5570</th>\n",
       "      <td>ham</td>\n",
       "      <td>The guy did some bitching but I acted like i'd...</td>\n",
       "    </tr>\n",
       "    <tr>\n",
       "      <th>5571</th>\n",
       "      <td>ham</td>\n",
       "      <td>Rofl. Its true to its name</td>\n",
       "    </tr>\n",
       "  </tbody>\n",
       "</table>\n",
       "<p>5169 rows × 2 columns</p>\n",
       "</div>"
      ],
      "text/plain": [
       "        v1                                                 v2\n",
       "0      ham  Go until jurong point, crazy.. Available only ...\n",
       "1      ham                      Ok lar... Joking wif u oni...\n",
       "2     spam  Free entry in 2 a wkly comp to win FA Cup fina...\n",
       "3      ham  U dun say so early hor... U c already then say...\n",
       "4      ham  Nah I don't think he goes to usf, he lives aro...\n",
       "...    ...                                                ...\n",
       "5567  spam  This is the 2nd time we have tried 2 contact u...\n",
       "5568   ham              Will �_ b going to esplanade fr home?\n",
       "5569   ham  Pity, * was in mood for that. So...any other s...\n",
       "5570   ham  The guy did some bitching but I acted like i'd...\n",
       "5571   ham                         Rofl. Its true to its name\n",
       "\n",
       "[5169 rows x 2 columns]"
      ]
     },
     "execution_count": 7,
     "metadata": {},
     "output_type": "execute_result"
    }
   ],
   "source": [
    "df_1.drop_duplicates()"
   ]
  },
  {
   "cell_type": "code",
   "execution_count": 8,
   "id": "f7e10220",
   "metadata": {},
   "outputs": [
    {
     "data": {
      "image/png": "[encoded data removed]",
      "text/plain": [
       "<Figure size 432x288 with 1 Axes>"
      ]
     },
     "metadata": {
      "needs_background": "light"
     },
     "output_type": "display_data"
    }
   ],
   "source": [
    "sns.countplot(x = 'v1',data = df_1)\n",
    "plt.show()"
   ]
  },
  {
   "cell_type": "code",
   "execution_count": 9,
   "id": "e95d57b9",
   "metadata": {},
   "outputs": [
    {
     "data": {
      "text/plain": [
       "ham     4825\n",
       "spam     747\n",
       "Name: v1, dtype: int64"
      ]
     },
     "execution_count": 9,
     "metadata": {},
     "output_type": "execute_result"
    }
   ],
   "source": [
    "df_1['v1'].value_counts()"
   ]
  },
  {
   "cell_type": "code",
   "execution_count": 10,
   "id": "a12f215c",
   "metadata": {},
   "outputs": [
    {
     "data": {
      "text/html": [
       "<div>\n",
       "<style scoped>\n",
       "    .dataframe tbody tr th:only-of-type {\n",
       "        vertical-align: middle;\n",
       "    }\n",
       "\n",
       "    .dataframe tbody tr th {\n",
       "        vertical-align: top;\n",
       "    }\n",
       "\n",
       "    .dataframe thead th {\n",
       "        text-align: right;\n",
       "    }\n",
       "</style>\n",
       "<table border=\"1\" class=\"dataframe\">\n",
       "  <thead>\n",
       "    <tr style=\"text-align: right;\">\n",
       "      <th></th>\n",
       "      <th>v1</th>\n",
       "      <th>v2</th>\n",
       "    </tr>\n",
       "  </thead>\n",
       "  <tbody>\n",
       "    <tr>\n",
       "      <th>0</th>\n",
       "      <td>ham</td>\n",
       "      <td>Go until jurong point, crazy.. Available only ...</td>\n",
       "    </tr>\n",
       "    <tr>\n",
       "      <th>1</th>\n",
       "      <td>ham</td>\n",
       "      <td>Ok lar... Joking wif u oni...</td>\n",
       "    </tr>\n",
       "    <tr>\n",
       "      <th>2</th>\n",
       "      <td>spam</td>\n",
       "      <td>Free entry in 2 a wkly comp to win FA Cup fina...</td>\n",
       "    </tr>\n",
       "    <tr>\n",
       "      <th>3</th>\n",
       "      <td>ham</td>\n",
       "      <td>U dun say so early hor... U c already then say...</td>\n",
       "    </tr>\n",
       "    <tr>\n",
       "      <th>4</th>\n",
       "      <td>ham</td>\n",
       "      <td>Nah I don't think he goes to usf, he lives aro...</td>\n",
       "    </tr>\n",
       "  </tbody>\n",
       "</table>\n",
       "</div>"
      ],
      "text/plain": [
       "     v1                                                 v2\n",
       "0   ham  Go until jurong point, crazy.. Available only ...\n",
       "1   ham                      Ok lar... Joking wif u oni...\n",
       "2  spam  Free entry in 2 a wkly comp to win FA Cup fina...\n",
       "3   ham  U dun say so early hor... U c already then say...\n",
       "4   ham  Nah I don't think he goes to usf, he lives aro..."
      ]
     },
     "execution_count": 10,
     "metadata": {},
     "output_type": "execute_result"
    }
   ],
   "source": [
    "df_1.head()"
   ]
  },
  {
   "cell_type": "markdown",
   "id": "749d8a64",
   "metadata": {},
   "source": [
    "## CLEANING DATA"
   ]
  },
  {
   "cell_type": "code",
   "execution_count": 11,
   "id": "b83bbdcf",
   "metadata": {},
   "outputs": [],
   "source": [
    "def text_process(df_1):\n",
    "    df_1 =df_1.translate(str.maketrans('', '', string.punctuation))\n",
    "    df_1 = [word for word in df_1.split() if word.lower() not in stopwords.words('english')]\n",
    "    return \" \".join(df_1)"
   ]
  },
  {
   "cell_type": "code",
   "execution_count": 12,
   "id": "a9193917",
   "metadata": {},
   "outputs": [
    {
     "data": {
      "text/html": [
       "<div>\n",
       "<style scoped>\n",
       "    .dataframe tbody tr th:only-of-type {\n",
       "        vertical-align: middle;\n",
       "    }\n",
       "\n",
       "    .dataframe tbody tr th {\n",
       "        vertical-align: top;\n",
       "    }\n",
       "\n",
       "    .dataframe thead th {\n",
       "        text-align: right;\n",
       "    }\n",
       "</style>\n",
       "<table border=\"1\" class=\"dataframe\">\n",
       "  <thead>\n",
       "    <tr style=\"text-align: right;\">\n",
       "      <th></th>\n",
       "      <th>v2</th>\n",
       "      <th>v1</th>\n",
       "    </tr>\n",
       "  </thead>\n",
       "  <tbody>\n",
       "    <tr>\n",
       "      <th>0</th>\n",
       "      <td>Go until jurong point, crazy.. Available only ...</td>\n",
       "      <td>ham</td>\n",
       "    </tr>\n",
       "    <tr>\n",
       "      <th>1</th>\n",
       "      <td>Ok lar... Joking wif u oni...</td>\n",
       "      <td>ham</td>\n",
       "    </tr>\n",
       "    <tr>\n",
       "      <th>2</th>\n",
       "      <td>Free entry in 2 a wkly comp to win FA Cup fina...</td>\n",
       "      <td>spam</td>\n",
       "    </tr>\n",
       "    <tr>\n",
       "      <th>3</th>\n",
       "      <td>U dun say so early hor... U c already then say...</td>\n",
       "      <td>ham</td>\n",
       "    </tr>\n",
       "    <tr>\n",
       "      <th>4</th>\n",
       "      <td>Nah I don't think he goes to usf, he lives aro...</td>\n",
       "      <td>ham</td>\n",
       "    </tr>\n",
       "  </tbody>\n",
       "</table>\n",
       "</div>"
      ],
      "text/plain": [
       "                                                  v2    v1\n",
       "0  Go until jurong point, crazy.. Available only ...   ham\n",
       "1                      Ok lar... Joking wif u oni...   ham\n",
       "2  Free entry in 2 a wkly comp to win FA Cup fina...  spam\n",
       "3  U dun say so early hor... U c already then say...   ham\n",
       "4  Nah I don't think he goes to usf, he lives aro...   ham"
      ]
     },
     "execution_count": 12,
     "metadata": {},
     "output_type": "execute_result"
    }
   ],
   "source": [
    "spam_data = df_1[['v2','v1']]\n",
    "spam_data.head()"
   ]
  },
  {
   "cell_type": "code",
   "execution_count": 13,
   "id": "5d9d7863",
   "metadata": {},
   "outputs": [
    {
     "data": {
      "text/html": [
       "<div>\n",
       "<style scoped>\n",
       "    .dataframe tbody tr th:only-of-type {\n",
       "        vertical-align: middle;\n",
       "    }\n",
       "\n",
       "    .dataframe tbody tr th {\n",
       "        vertical-align: top;\n",
       "    }\n",
       "\n",
       "    .dataframe thead th {\n",
       "        text-align: right;\n",
       "    }\n",
       "</style>\n",
       "<table border=\"1\" class=\"dataframe\">\n",
       "  <thead>\n",
       "    <tr style=\"text-align: right;\">\n",
       "      <th></th>\n",
       "      <th>sentence</th>\n",
       "      <th>labels</th>\n",
       "    </tr>\n",
       "  </thead>\n",
       "  <tbody>\n",
       "    <tr>\n",
       "      <th>0</th>\n",
       "      <td>Go until jurong point, crazy.. Available only ...</td>\n",
       "      <td>ham</td>\n",
       "    </tr>\n",
       "    <tr>\n",
       "      <th>1</th>\n",
       "      <td>Ok lar... Joking wif u oni...</td>\n",
       "      <td>ham</td>\n",
       "    </tr>\n",
       "    <tr>\n",
       "      <th>2</th>\n",
       "      <td>Free entry in 2 a wkly comp to win FA Cup fina...</td>\n",
       "      <td>spam</td>\n",
       "    </tr>\n",
       "    <tr>\n",
       "      <th>3</th>\n",
       "      <td>U dun say so early hor... U c already then say...</td>\n",
       "      <td>ham</td>\n",
       "    </tr>\n",
       "    <tr>\n",
       "      <th>4</th>\n",
       "      <td>Nah I don't think he goes to usf, he lives aro...</td>\n",
       "      <td>ham</td>\n",
       "    </tr>\n",
       "  </tbody>\n",
       "</table>\n",
       "</div>"
      ],
      "text/plain": [
       "                                            sentence labels\n",
       "0  Go until jurong point, crazy.. Available only ...    ham\n",
       "1                      Ok lar... Joking wif u oni...    ham\n",
       "2  Free entry in 2 a wkly comp to win FA Cup fina...   spam\n",
       "3  U dun say so early hor... U c already then say...    ham\n",
       "4  Nah I don't think he goes to usf, he lives aro...    ham"
      ]
     },
     "execution_count": 13,
     "metadata": {},
     "output_type": "execute_result"
    }
   ],
   "source": [
    "spam_data.columns = ['sentence','labels']\n",
    "spam_data.head()"
   ]
  },
  {
   "cell_type": "code",
   "execution_count": 14,
   "id": "5ac2deb7",
   "metadata": {},
   "outputs": [],
   "source": [
    "sentence = list(spam_data['sentence'])\n",
    "label = list(spam_data['labels'])"
   ]
  },
  {
   "cell_type": "code",
   "execution_count": 15,
   "id": "344cf207",
   "metadata": {},
   "outputs": [
    {
     "data": {
      "text/plain": [
       "LabelEncoder()"
      ]
     },
     "execution_count": 15,
     "metadata": {},
     "output_type": "execute_result"
    }
   ],
   "source": [
    "from sklearn.preprocessing import LabelEncoder\n",
    "encod = LabelEncoder()\n",
    "encod.fit(label)"
   ]
  },
  {
   "cell_type": "code",
   "execution_count": 16,
   "id": "53b20687",
   "metadata": {},
   "outputs": [
    {
     "data": {
      "text/plain": [
       "array(['ham', 'spam'], dtype='<U4')"
      ]
     },
     "execution_count": 16,
     "metadata": {},
     "output_type": "execute_result"
    }
   ],
   "source": [
    "encod.classes_"
   ]
  },
  {
   "cell_type": "code",
   "execution_count": 17,
   "id": "44bc4015",
   "metadata": {},
   "outputs": [],
   "source": [
    "import tensorflow as tf\n",
    "from tensorflow import keras\n",
    "def encoding(encod ,labels):\n",
    "    transform = encod.transform(labels)\n",
    "    encod = tf.keras.utils.to_categorical(transform)\n",
    "    return encod\n",
    "def decoding(encod,one_hot):\n",
    "    transform = np.argmax(one_hot, axis = 1)\n",
    "    decode = encod.inverse_transform(transform)\n",
    "    return decode\n",
    "    "
   ]
  },
  {
   "cell_type": "markdown",
   "id": "cc01da06",
   "metadata": {},
   "source": [
    "## Splitting INTO Training and Testing"
   ]
  },
  {
   "cell_type": "code",
   "execution_count": 18,
   "id": "809fb825",
   "metadata": {},
   "outputs": [],
   "source": [
    "X = sentence\n",
    "y = encoding(encod,label)"
   ]
  },
  {
   "cell_type": "code",
   "execution_count": 19,
   "id": "fb1d076f",
   "metadata": {},
   "outputs": [
    {
     "data": {
      "text/plain": [
       "(5572, 5572)"
      ]
     },
     "execution_count": 19,
     "metadata": {},
     "output_type": "execute_result"
    }
   ],
   "source": [
    "len(X), len(y)"
   ]
  },
  {
   "cell_type": "code",
   "execution_count": 20,
   "id": "8e6667d6",
   "metadata": {},
   "outputs": [],
   "source": [
    "X_train = np.asarray(X[:5000])\n",
    "y_train = np.asarray(y[:5000])\n",
    "\n",
    "X_test = np.asarray(X[5000:])\n",
    "y_test = np.asarray(y[5000:])"
   ]
  },
  {
   "cell_type": "code",
   "execution_count": 21,
   "id": "c9952460",
   "metadata": {},
   "outputs": [
    {
     "data": {
      "text/plain": [
       "((5000,), (5000, 2), (572,), (572, 2))"
      ]
     },
     "execution_count": 21,
     "metadata": {},
     "output_type": "execute_result"
    }
   ],
   "source": [
    "X_train.shape, y_train.shape, X_test.shape, y_test.shape"
   ]
  },
  {
   "cell_type": "code",
   "execution_count": 22,
   "id": "4215e111",
   "metadata": {},
   "outputs": [],
   "source": [
    "import tensorflow_hub as hub\n"
   ]
  },
  {
   "cell_type": "code",
   "execution_count": 23,
   "id": "13d4ab46",
   "metadata": {},
   "outputs": [],
   "source": [
    "# using universal sentence encoder\n",
    "module_url = \"https://tfhub.dev/google/universal-sentence-encoder/4\" #@param [\"https://tfhub.dev/google/universal-sentence-encoder/4\", \"https://tfhub.dev/google/universal-sentence-encoder-large/5\"]\n",
    "embed  = hub.load(module_url)\n"
   ]
  },
  {
   "cell_type": "code",
   "execution_count": 24,
   "id": "9e2862b8",
   "metadata": {},
   "outputs": [
    {
     "name": "stdout",
     "output_type": "stream",
     "text": [
      "tf.Tensor(\n",
      "[[-0.03133018 -0.06338634 -0.016075   ... -0.03242778 -0.0457574\n",
      "   0.05370456]\n",
      " [ 0.05080861 -0.01652429  0.0157378  ...  0.00976658  0.03170122\n",
      "   0.01788118]], shape=(2, 512), dtype=float32)\n"
     ]
    }
   ],
   "source": [
    "### testing the universal embdding \n",
    "embedding = embed([\n",
    "                     \"The quick brown fox jumps over the lazy dog.\",\n",
    "    \"I am a sentence for which I would like to get its embedding\"\n",
    "])\n",
    "\n",
    "print(embedding)"
   ]
  },
  {
   "cell_type": "code",
   "execution_count": 34,
   "id": "f1402e74",
   "metadata": {},
   "outputs": [],
   "source": [
    "def embedding_func(x):\n",
    "    embedding = embed(tf.squeeze(tf.cast(x,tf.string)))\n",
    "    return embedding"
   ]
  },
  {
   "cell_type": "markdown",
   "id": "92c39eb2",
   "metadata": {},
   "source": [
    "## BUILDING THE MODEL"
   ]
  },
  {
   "cell_type": "code",
   "execution_count": 35,
   "id": "f26dae10",
   "metadata": {},
   "outputs": [
    {
     "name": "stdout",
     "output_type": "stream",
     "text": [
      "WARNING:tensorflow:\n",
      "The following Variables were used a Lambda layer's call (lambda_2), but\n",
      "are not present in its tracked objects:\n",
      "  <tf.Variable 'Embeddings/sharded_0:0' shape=(26667, 320) dtype=float32>\n",
      "  <tf.Variable 'Embeddings/sharded_1:0' shape=(26667, 320) dtype=float32>\n",
      "  <tf.Variable 'Embeddings/sharded_2:0' shape=(26667, 320) dtype=float32>\n",
      "  <tf.Variable 'Embeddings/sharded_3:0' shape=(26667, 320) dtype=float32>\n",
      "  <tf.Variable 'Embeddings/sharded_4:0' shape=(26667, 320) dtype=float32>\n",
      "  <tf.Variable 'Embeddings/sharded_5:0' shape=(26667, 320) dtype=float32>\n",
      "  <tf.Variable 'Embeddings/sharded_6:0' shape=(26667, 320) dtype=float32>\n",
      "  <tf.Variable 'Embeddings/sharded_7:0' shape=(26667, 320) dtype=float32>\n",
      "  <tf.Variable 'Embeddings/sharded_8:0' shape=(26667, 320) dtype=float32>\n",
      "  <tf.Variable 'Embeddings/sharded_9:0' shape=(26667, 320) dtype=float32>\n",
      "  <tf.Variable 'Embeddings/sharded_10:0' shape=(26667, 320) dtype=float32>\n",
      "  <tf.Variable 'Embeddings/sharded_11:0' shape=(26667, 320) dtype=float32>\n",
      "  <tf.Variable 'Embeddings/sharded_12:0' shape=(26667, 320) dtype=float32>\n",
      "  <tf.Variable 'Embeddings/sharded_13:0' shape=(26667, 320) dtype=float32>\n",
      "  <tf.Variable 'Embeddings/sharded_14:0' shape=(26667, 320) dtype=float32>\n",
      "  <tf.Variable 'Embeddings/sharded_15:0' shape=(26667, 320) dtype=float32>\n",
      "  <tf.Variable 'Embeddings/sharded_16:0' shape=(26667, 320) dtype=float32>\n",
      "  <tf.Variable 'Embeddings/sharded_17:0' shape=(26667, 320) dtype=float32>\n",
      "  <tf.Variable 'Embeddings/sharded_18:0' shape=(26667, 320) dtype=float32>\n",
      "  <tf.Variable 'Embeddings/sharded_19:0' shape=(26667, 320) dtype=float32>\n",
      "  <tf.Variable 'Embeddings/sharded_20:0' shape=(26667, 320) dtype=float32>\n",
      "  <tf.Variable 'Embeddings/sharded_21:0' shape=(26667, 320) dtype=float32>\n",
      "  <tf.Variable 'Embeddings/sharded_22:0' shape=(26667, 320) dtype=float32>\n",
      "  <tf.Variable 'Embeddings/sharded_23:0' shape=(26667, 320) dtype=float32>\n",
      "  <tf.Variable 'Embeddings/sharded_24:0' shape=(26667, 320) dtype=float32>\n",
      "  <tf.Variable 'Embeddings/sharded_25:0' shape=(26667, 320) dtype=float32>\n",
      "  <tf.Variable 'Embeddings/sharded_26:0' shape=(26667, 320) dtype=float32>\n",
      "  <tf.Variable 'Embeddings/sharded_27:0' shape=(26667, 320) dtype=float32>\n",
      "  <tf.Variable 'Embeddings/sharded_28:0' shape=(26667, 320) dtype=float32>\n",
      "  <tf.Variable 'Embeddings/sharded_29:0' shape=(26667, 320) dtype=float32>\n",
      "  <tf.Variable 'EncoderDNN/DNN/ResidualHidden_0/dense/kernel/part_0:0' shape=(11, 320) dtype=float32>\n",
      "  <tf.Variable 'EncoderDNN/DNN/ResidualHidden_0/dense/kernel/part_1:0' shape=(11, 320) dtype=float32>\n",
      "  <tf.Variable 'EncoderDNN/DNN/ResidualHidden_0/dense/kernel/part_2:0' shape=(11, 320) dtype=float32>\n",
      "  <tf.Variable 'EncoderDNN/DNN/ResidualHidden_0/dense/kernel/part_3:0' shape=(11, 320) dtype=float32>\n",
      "  <tf.Variable 'EncoderDNN/DNN/ResidualHidden_0/dense/kernel/part_4:0' shape=(11, 320) dtype=float32>\n",
      "  <tf.Variable 'EncoderDNN/DNN/ResidualHidden_0/dense/kernel/part_5:0' shape=(11, 320) dtype=float32>\n",
      "  <tf.Variable 'EncoderDNN/DNN/ResidualHidden_0/dense/kernel/part_6:0' shape=(11, 320) dtype=float32>\n",
      "  <tf.Variable 'EncoderDNN/DNN/ResidualHidden_0/dense/kernel/part_7:0' shape=(11, 320) dtype=float32>\n",
      "  <tf.Variable 'EncoderDNN/DNN/ResidualHidden_0/dense/kernel/part_8:0' shape=(11, 320) dtype=float32>\n",
      "  <tf.Variable 'EncoderDNN/DNN/ResidualHidden_0/dense/kernel/part_9:0' shape=(11, 320) dtype=float32>\n",
      "  <tf.Variable 'EncoderDNN/DNN/ResidualHidden_0/dense/kernel/part_10:0' shape=(11, 320) dtype=float32>\n",
      "  <tf.Variable 'EncoderDNN/DNN/ResidualHidden_0/dense/kernel/part_11:0' shape=(11, 320) dtype=float32>\n",
      "  <tf.Variable 'EncoderDNN/DNN/ResidualHidden_0/dense/kernel/part_12:0' shape=(11, 320) dtype=float32>\n",
      "  <tf.Variable 'EncoderDNN/DNN/ResidualHidden_0/dense/kernel/part_13:0' shape=(11, 320) dtype=float32>\n",
      "  <tf.Variable 'EncoderDNN/DNN/ResidualHidden_0/dense/kernel/part_14:0' shape=(11, 320) dtype=float32>\n",
      "  <tf.Variable 'EncoderDNN/DNN/ResidualHidden_0/dense/kernel/part_15:0' shape=(11, 320) dtype=float32>\n",
      "  <tf.Variable 'EncoderDNN/DNN/ResidualHidden_0/dense/kernel/part_16:0' shape=(11, 320) dtype=float32>\n",
      "  <tf.Variable 'EncoderDNN/DNN/ResidualHidden_0/dense/kernel/part_17:0' shape=(11, 320) dtype=float32>\n",
      "  <tf.Variable 'EncoderDNN/DNN/ResidualHidden_0/dense/kernel/part_18:0' shape=(11, 320) dtype=float32>\n",
      "  <tf.Variable 'EncoderDNN/DNN/ResidualHidden_0/dense/kernel/part_19:0' shape=(11, 320) dtype=float32>\n",
      "  <tf.Variable 'EncoderDNN/DNN/ResidualHidden_0/dense/kernel/part_20:0' shape=(10, 320) dtype=float32>\n",
      "  <tf.Variable 'EncoderDNN/DNN/ResidualHidden_0/dense/kernel/part_21:0' shape=(10, 320) dtype=float32>\n",
      "  <tf.Variable 'EncoderDNN/DNN/ResidualHidden_0/dense/kernel/part_22:0' shape=(10, 320) dtype=float32>\n",
      "  <tf.Variable 'EncoderDNN/DNN/ResidualHidden_0/dense/kernel/part_23:0' shape=(10, 320) dtype=float32>\n",
      "  <tf.Variable 'EncoderDNN/DNN/ResidualHidden_0/dense/kernel/part_24:0' shape=(10, 320) dtype=float32>\n",
      "  <tf.Variable 'EncoderDNN/DNN/ResidualHidden_0/dense/kernel/part_25:0' shape=(10, 320) dtype=float32>\n",
      "  <tf.Variable 'EncoderDNN/DNN/ResidualHidden_0/dense/kernel/part_26:0' shape=(10, 320) dtype=float32>\n",
      "  <tf.Variable 'EncoderDNN/DNN/ResidualHidden_0/dense/kernel/part_27:0' shape=(10, 320) dtype=float32>\n",
      "  <tf.Variable 'EncoderDNN/DNN/ResidualHidden_0/dense/kernel/part_28:0' shape=(10, 320) dtype=float32>\n",
      "  <tf.Variable 'EncoderDNN/DNN/ResidualHidden_0/dense/kernel/part_29:0' shape=(10, 320) dtype=float32>\n",
      "  <tf.Variable 'EncoderDNN/DNN/ResidualHidden_1/dense/kernel/part_0:0' shape=(11, 320) dtype=float32>\n",
      "  <tf.Variable 'EncoderDNN/DNN/ResidualHidden_1/dense/kernel/part_1:0' shape=(11, 320) dtype=float32>\n",
      "  <tf.Variable 'EncoderDNN/DNN/ResidualHidden_1/dense/kernel/part_2:0' shape=(11, 320) dtype=float32>\n",
      "  <tf.Variable 'EncoderDNN/DNN/ResidualHidden_1/dense/kernel/part_3:0' shape=(11, 320) dtype=float32>\n",
      "  <tf.Variable 'EncoderDNN/DNN/ResidualHidden_1/dense/kernel/part_4:0' shape=(11, 320) dtype=float32>\n",
      "  <tf.Variable 'EncoderDNN/DNN/ResidualHidden_1/dense/kernel/part_5:0' shape=(11, 320) dtype=float32>\n",
      "  <tf.Variable 'EncoderDNN/DNN/ResidualHidden_1/dense/kernel/part_6:0' shape=(11, 320) dtype=float32>\n",
      "  <tf.Variable 'EncoderDNN/DNN/ResidualHidden_1/dense/kernel/part_7:0' shape=(11, 320) dtype=float32>\n",
      "  <tf.Variable 'EncoderDNN/DNN/ResidualHidden_1/dense/kernel/part_8:0' shape=(11, 320) dtype=float32>\n",
      "  <tf.Variable 'EncoderDNN/DNN/ResidualHidden_1/dense/kernel/part_9:0' shape=(11, 320) dtype=float32>\n",
      "  <tf.Variable 'EncoderDNN/DNN/ResidualHidden_1/dense/kernel/part_10:0' shape=(11, 320) dtype=float32>\n",
      "  <tf.Variable 'EncoderDNN/DNN/ResidualHidden_1/dense/kernel/part_11:0' shape=(11, 320) dtype=float32>\n",
      "  <tf.Variable 'EncoderDNN/DNN/ResidualHidden_1/dense/kernel/part_12:0' shape=(11, 320) dtype=float32>\n",
      "  <tf.Variable 'EncoderDNN/DNN/ResidualHidden_1/dense/kernel/part_13:0' shape=(11, 320) dtype=float32>\n",
      "  <tf.Variable 'EncoderDNN/DNN/ResidualHidden_1/dense/kernel/part_14:0' shape=(11, 320) dtype=float32>\n",
      "  <tf.Variable 'EncoderDNN/DNN/ResidualHidden_1/dense/kernel/part_15:0' shape=(11, 320) dtype=float32>\n",
      "  <tf.Variable 'EncoderDNN/DNN/ResidualHidden_1/dense/kernel/part_16:0' shape=(11, 320) dtype=float32>\n",
      "  <tf.Variable 'EncoderDNN/DNN/ResidualHidden_1/dense/kernel/part_17:0' shape=(11, 320) dtype=float32>\n",
      "  <tf.Variable 'EncoderDNN/DNN/ResidualHidden_1/dense/kernel/part_18:0' shape=(11, 320) dtype=float32>\n",
      "  <tf.Variable 'EncoderDNN/DNN/ResidualHidden_1/dense/kernel/part_19:0' shape=(11, 320) dtype=float32>\n",
      "  <tf.Variable 'EncoderDNN/DNN/ResidualHidden_1/dense/kernel/part_20:0' shape=(10, 320) dtype=float32>\n",
      "  <tf.Variable 'EncoderDNN/DNN/ResidualHidden_1/dense/kernel/part_21:0' shape=(10, 320) dtype=float32>\n",
      "  <tf.Variable 'EncoderDNN/DNN/ResidualHidden_1/dense/kernel/part_22:0' shape=(10, 320) dtype=float32>\n",
      "  <tf.Variable 'EncoderDNN/DNN/ResidualHidden_1/dense/kernel/part_23:0' shape=(10, 320) dtype=float32>\n",
      "  <tf.Variable 'EncoderDNN/DNN/ResidualHidden_1/dense/kernel/part_24:0' shape=(10, 320) dtype=float32>\n",
      "  <tf.Variable 'EncoderDNN/DNN/ResidualHidden_1/dense/kernel/part_25:0' shape=(10, 320) dtype=float32>\n",
      "  <tf.Variable 'EncoderDNN/DNN/ResidualHidden_1/dense/kernel/part_26:0' shape=(10, 320) dtype=float32>\n",
      "  <tf.Variable 'EncoderDNN/DNN/ResidualHidden_1/dense/kernel/part_27:0' shape=(10, 320) dtype=float32>\n",
      "  <tf.Variable 'EncoderDNN/DNN/ResidualHidden_1/dense/kernel/part_28:0' shape=(10, 320) dtype=float32>\n",
      "  <tf.Variable 'EncoderDNN/DNN/ResidualHidden_1/dense/kernel/part_29:0' shape=(10, 320) dtype=float32>\n",
      "  <tf.Variable 'EncoderDNN/DNN/ResidualHidden_2/dense/kernel/part_0:0' shape=(11, 512) dtype=float32>\n",
      "  <tf.Variable 'EncoderDNN/DNN/ResidualHidden_2/dense/kernel/part_1:0' shape=(11, 512) dtype=float32>\n",
      "  <tf.Variable 'EncoderDNN/DNN/ResidualHidden_2/dense/kernel/part_2:0' shape=(11, 512) dtype=float32>\n",
      "  <tf.Variable 'EncoderDNN/DNN/ResidualHidden_2/dense/kernel/part_3:0' shape=(11, 512) dtype=float32>\n",
      "  <tf.Variable 'EncoderDNN/DNN/ResidualHidden_2/dense/kernel/part_4:0' shape=(11, 512) dtype=float32>\n",
      "  <tf.Variable 'EncoderDNN/DNN/ResidualHidden_2/dense/kernel/part_5:0' shape=(11, 512) dtype=float32>\n",
      "  <tf.Variable 'EncoderDNN/DNN/ResidualHidden_2/dense/kernel/part_6:0' shape=(11, 512) dtype=float32>\n",
      "  <tf.Variable 'EncoderDNN/DNN/ResidualHidden_2/dense/kernel/part_7:0' shape=(11, 512) dtype=float32>\n",
      "  <tf.Variable 'EncoderDNN/DNN/ResidualHidden_2/dense/kernel/part_8:0' shape=(11, 512) dtype=float32>\n",
      "  <tf.Variable 'EncoderDNN/DNN/ResidualHidden_2/dense/kernel/part_9:0' shape=(11, 512) dtype=float32>\n",
      "  <tf.Variable 'EncoderDNN/DNN/ResidualHidden_2/dense/kernel/part_10:0' shape=(11, 512) dtype=float32>\n",
      "  <tf.Variable 'EncoderDNN/DNN/ResidualHidden_2/dense/kernel/part_11:0' shape=(11, 512) dtype=float32>\n",
      "  <tf.Variable 'EncoderDNN/DNN/ResidualHidden_2/dense/kernel/part_12:0' shape=(11, 512) dtype=float32>\n",
      "  <tf.Variable 'EncoderDNN/DNN/ResidualHidden_2/dense/kernel/part_13:0' shape=(11, 512) dtype=float32>\n",
      "  <tf.Variable 'EncoderDNN/DNN/ResidualHidden_2/dense/kernel/part_14:0' shape=(11, 512) dtype=float32>\n",
      "  <tf.Variable 'EncoderDNN/DNN/ResidualHidden_2/dense/kernel/part_15:0' shape=(11, 512) dtype=float32>\n",
      "  <tf.Variable 'EncoderDNN/DNN/ResidualHidden_2/dense/kernel/part_16:0' shape=(11, 512) dtype=float32>\n",
      "  <tf.Variable 'EncoderDNN/DNN/ResidualHidden_2/dense/kernel/part_17:0' shape=(11, 512) dtype=float32>\n",
      "  <tf.Variable 'EncoderDNN/DNN/ResidualHidden_2/dense/kernel/part_18:0' shape=(11, 512) dtype=float32>\n",
      "  <tf.Variable 'EncoderDNN/DNN/ResidualHidden_2/dense/kernel/part_19:0' shape=(11, 512) dtype=float32>\n",
      "  <tf.Variable 'EncoderDNN/DNN/ResidualHidden_2/dense/kernel/part_20:0' shape=(10, 512) dtype=float32>\n",
      "  <tf.Variable 'EncoderDNN/DNN/ResidualHidden_2/dense/kernel/part_21:0' shape=(10, 512) dtype=float32>\n",
      "  <tf.Variable 'EncoderDNN/DNN/ResidualHidden_2/dense/kernel/part_22:0' shape=(10, 512) dtype=float32>\n",
      "  <tf.Variable 'EncoderDNN/DNN/ResidualHidden_2/dense/kernel/part_23:0' shape=(10, 512) dtype=float32>\n",
      "  <tf.Variable 'EncoderDNN/DNN/ResidualHidden_2/dense/kernel/part_24:0' shape=(10, 512) dtype=float32>\n",
      "  <tf.Variable 'EncoderDNN/DNN/ResidualHidden_2/dense/kernel/part_25:0' shape=(10, 512) dtype=float32>\n",
      "  <tf.Variable 'EncoderDNN/DNN/ResidualHidden_2/dense/kernel/part_26:0' shape=(10, 512) dtype=float32>\n",
      "  <tf.Variable 'EncoderDNN/DNN/ResidualHidden_2/dense/kernel/part_27:0' shape=(10, 512) dtype=float32>\n",
      "  <tf.Variable 'EncoderDNN/DNN/ResidualHidden_2/dense/kernel/part_28:0' shape=(10, 512) dtype=float32>\n",
      "  <tf.Variable 'EncoderDNN/DNN/ResidualHidden_2/dense/kernel/part_29:0' shape=(10, 512) dtype=float32>\n",
      "  <tf.Variable 'EncoderDNN/DNN/ResidualHidden_3/dense/kernel/part_0:0' shape=(18, 512) dtype=float32>\n",
      "  <tf.Variable 'EncoderDNN/DNN/ResidualHidden_3/dense/kernel/part_1:0' shape=(18, 512) dtype=float32>\n",
      "  <tf.Variable 'EncoderDNN/DNN/ResidualHidden_3/dense/kernel/part_2:0' shape=(17, 512) dtype=float32>\n",
      "  <tf.Variable 'EncoderDNN/DNN/ResidualHidden_3/dense/kernel/part_3:0' shape=(17, 512) dtype=float32>\n",
      "  <tf.Variable 'EncoderDNN/DNN/ResidualHidden_3/dense/kernel/part_4:0' shape=(17, 512) dtype=float32>\n",
      "  <tf.Variable 'EncoderDNN/DNN/ResidualHidden_3/dense/kernel/part_5:0' shape=(17, 512) dtype=float32>\n",
      "  <tf.Variable 'EncoderDNN/DNN/ResidualHidden_3/dense/kernel/part_6:0' shape=(17, 512) dtype=float32>\n",
      "  <tf.Variable 'EncoderDNN/DNN/ResidualHidden_3/dense/kernel/part_7:0' shape=(17, 512) dtype=float32>\n",
      "  <tf.Variable 'EncoderDNN/DNN/ResidualHidden_3/dense/kernel/part_8:0' shape=(17, 512) dtype=float32>\n",
      "  <tf.Variable 'EncoderDNN/DNN/ResidualHidden_3/dense/kernel/part_9:0' shape=(17, 512) dtype=float32>\n",
      "  <tf.Variable 'EncoderDNN/DNN/ResidualHidden_3/dense/kernel/part_10:0' shape=(17, 512) dtype=float32>\n",
      "  <tf.Variable 'EncoderDNN/DNN/ResidualHidden_3/dense/kernel/part_11:0' shape=(17, 512) dtype=float32>\n",
      "  <tf.Variable 'EncoderDNN/DNN/ResidualHidden_3/dense/kernel/part_12:0' shape=(17, 512) dtype=float32>\n",
      "  <tf.Variable 'EncoderDNN/DNN/ResidualHidden_3/dense/kernel/part_13:0' shape=(17, 512) dtype=float32>\n",
      "  <tf.Variable 'EncoderDNN/DNN/ResidualHidden_3/dense/kernel/part_14:0' shape=(17, 512) dtype=float32>\n",
      "  <tf.Variable 'EncoderDNN/DNN/ResidualHidden_3/dense/kernel/part_15:0' shape=(17, 512) dtype=float32>\n",
      "  <tf.Variable 'EncoderDNN/DNN/ResidualHidden_3/dense/kernel/part_16:0' shape=(17, 512) dtype=float32>\n",
      "  <tf.Variable 'EncoderDNN/DNN/ResidualHidden_3/dense/kernel/part_17:0' shape=(17, 512) dtype=float32>\n",
      "  <tf.Variable 'EncoderDNN/DNN/ResidualHidden_3/dense/kernel/part_18:0' shape=(17, 512) dtype=float32>\n",
      "  <tf.Variable 'EncoderDNN/DNN/ResidualHidden_3/dense/kernel/part_19:0' shape=(17, 512) dtype=float32>\n",
      "  <tf.Variable 'EncoderDNN/DNN/ResidualHidden_3/dense/kernel/part_20:0' shape=(17, 512) dtype=float32>\n",
      "  <tf.Variable 'EncoderDNN/DNN/ResidualHidden_3/dense/kernel/part_21:0' shape=(17, 512) dtype=float32>\n",
      "  <tf.Variable 'EncoderDNN/DNN/ResidualHidden_3/dense/kernel/part_22:0' shape=(17, 512) dtype=float32>\n",
      "  <tf.Variable 'EncoderDNN/DNN/ResidualHidden_3/dense/kernel/part_23:0' shape=(17, 512) dtype=float32>\n",
      "  <tf.Variable 'EncoderDNN/DNN/ResidualHidden_3/dense/kernel/part_24:0' shape=(17, 512) dtype=float32>\n",
      "  <tf.Variable 'EncoderDNN/DNN/ResidualHidden_3/dense/kernel/part_25:0' shape=(17, 512) dtype=float32>\n",
      "  <tf.Variable 'EncoderDNN/DNN/ResidualHidden_3/dense/kernel/part_26:0' shape=(17, 512) dtype=float32>\n",
      "  <tf.Variable 'EncoderDNN/DNN/ResidualHidden_3/dense/kernel/part_27:0' shape=(17, 512) dtype=float32>\n",
      "  <tf.Variable 'EncoderDNN/DNN/ResidualHidden_3/dense/kernel/part_28:0' shape=(17, 512) dtype=float32>\n",
      "  <tf.Variable 'EncoderDNN/DNN/ResidualHidden_3/dense/kernel/part_29:0' shape=(17, 512) dtype=float32>\n",
      "  <tf.Variable 'EncoderDNN/DNN/ResidualHidden_3/AdjustDepth/projection/kernel/part_0:0' shape=(11, 512) dtype=float32>\n",
      "  <tf.Variable 'EncoderDNN/DNN/ResidualHidden_3/AdjustDepth/projection/kernel/part_1:0' shape=(11, 512) dtype=float32>\n",
      "  <tf.Variable 'EncoderDNN/DNN/ResidualHidden_3/AdjustDepth/projection/kernel/part_2:0' shape=(11, 512) dtype=float32>\n",
      "  <tf.Variable 'EncoderDNN/DNN/ResidualHidden_3/AdjustDepth/projection/kernel/part_3:0' shape=(11, 512) dtype=float32>\n",
      "  <tf.Variable 'EncoderDNN/DNN/ResidualHidden_3/AdjustDepth/projection/kernel/part_4:0' shape=(11, 512) dtype=float32>\n",
      "  <tf.Variable 'EncoderDNN/DNN/ResidualHidden_3/AdjustDepth/projection/kernel/part_5:0' shape=(11, 512) dtype=float32>\n",
      "  <tf.Variable 'EncoderDNN/DNN/ResidualHidden_3/AdjustDepth/projection/kernel/part_6:0' shape=(11, 512) dtype=float32>\n",
      "  <tf.Variable 'EncoderDNN/DNN/ResidualHidden_3/AdjustDepth/projection/kernel/part_7:0' shape=(11, 512) dtype=float32>\n",
      "  <tf.Variable 'EncoderDNN/DNN/ResidualHidden_3/AdjustDepth/projection/kernel/part_8:0' shape=(11, 512) dtype=float32>\n",
      "  <tf.Variable 'EncoderDNN/DNN/ResidualHidden_3/AdjustDepth/projection/kernel/part_9:0' shape=(11, 512) dtype=float32>\n",
      "  <tf.Variable 'EncoderDNN/DNN/ResidualHidden_3/AdjustDepth/projection/kernel/part_10:0' shape=(11, 512) dtype=float32>\n",
      "  <tf.Variable 'EncoderDNN/DNN/ResidualHidden_3/AdjustDepth/projection/kernel/part_11:0' shape=(11, 512) dtype=float32>\n",
      "  <tf.Variable 'EncoderDNN/DNN/ResidualHidden_3/AdjustDepth/projection/kernel/part_12:0' shape=(11, 512) dtype=float32>\n",
      "  <tf.Variable 'EncoderDNN/DNN/ResidualHidden_3/AdjustDepth/projection/kernel/part_13:0' shape=(11, 512) dtype=float32>\n",
      "  <tf.Variable 'EncoderDNN/DNN/ResidualHidden_3/AdjustDepth/projection/kernel/part_14:0' shape=(11, 512) dtype=float32>\n",
      "  <tf.Variable 'EncoderDNN/DNN/ResidualHidden_3/AdjustDepth/projection/kernel/part_15:0' shape=(11, 512) dtype=float32>\n",
      "  <tf.Variable 'EncoderDNN/DNN/ResidualHidden_3/AdjustDepth/projection/kernel/part_16:0' shape=(11, 512) dtype=float32>\n",
      "  <tf.Variable 'EncoderDNN/DNN/ResidualHidden_3/AdjustDepth/projection/kernel/part_17:0' shape=(11, 512) dtype=float32>\n",
      "  <tf.Variable 'EncoderDNN/DNN/ResidualHidden_3/AdjustDepth/projection/kernel/part_18:0' shape=(11, 512) dtype=float32>\n",
      "  <tf.Variable 'EncoderDNN/DNN/ResidualHidden_3/AdjustDepth/projection/kernel/part_19:0' shape=(11, 512) dtype=float32>\n",
      "  <tf.Variable 'EncoderDNN/DNN/ResidualHidden_3/AdjustDepth/projection/kernel/part_20:0' shape=(10, 512) dtype=float32>\n",
      "  <tf.Variable 'EncoderDNN/DNN/ResidualHidden_3/AdjustDepth/projection/kernel/part_21:0' shape=(10, 512) dtype=float32>\n",
      "  <tf.Variable 'EncoderDNN/DNN/ResidualHidden_3/AdjustDepth/projection/kernel/part_22:0' shape=(10, 512) dtype=float32>\n",
      "  <tf.Variable 'EncoderDNN/DNN/ResidualHidden_3/AdjustDepth/projection/kernel/part_23:0' shape=(10, 512) dtype=float32>\n",
      "  <tf.Variable 'EncoderDNN/DNN/ResidualHidden_3/AdjustDepth/projection/kernel/part_24:0' shape=(10, 512) dtype=float32>\n",
      "  <tf.Variable 'EncoderDNN/DNN/ResidualHidden_3/AdjustDepth/projection/kernel/part_25:0' shape=(10, 512) dtype=float32>\n",
      "  <tf.Variable 'EncoderDNN/DNN/ResidualHidden_3/AdjustDepth/projection/kernel/part_26:0' shape=(10, 512) dtype=float32>\n",
      "  <tf.Variable 'EncoderDNN/DNN/ResidualHidden_3/AdjustDepth/projection/kernel/part_27:0' shape=(10, 512) dtype=float32>\n",
      "  <tf.Variable 'EncoderDNN/DNN/ResidualHidden_3/AdjustDepth/projection/kernel/part_28:0' shape=(10, 512) dtype=float32>\n",
      "  <tf.Variable 'EncoderDNN/DNN/ResidualHidden_3/AdjustDepth/projection/kernel/part_29:0' shape=(10, 512) dtype=float32>\n",
      "It is possible that this is intended behavior, but it is more likely\n",
      "an omission. This is a strong indication that this layer should be\n",
      "formulated as a subclassed Layer rather than a Lambda layer.\n"
     ]
    },
    {
     "name": "stderr",
     "output_type": "stream",
     "text": [
      "WARNING:tensorflow:\n",
      "The following Variables were used a Lambda layer's call (lambda_2), but\n",
      "are not present in its tracked objects:\n",
      "  <tf.Variable 'Embeddings/sharded_0:0' shape=(26667, 320) dtype=float32>\n",
      "  <tf.Variable 'Embeddings/sharded_1:0' shape=(26667, 320) dtype=float32>\n",
      "  <tf.Variable 'Embeddings/sharded_2:0' shape=(26667, 320) dtype=float32>\n",
      "  <tf.Variable 'Embeddings/sharded_3:0' shape=(26667, 320) dtype=float32>\n",
      "  <tf.Variable 'Embeddings/sharded_4:0' shape=(26667, 320) dtype=float32>\n",
      "  <tf.Variable 'Embeddings/sharded_5:0' shape=(26667, 320) dtype=float32>\n",
      "  <tf.Variable 'Embeddings/sharded_6:0' shape=(26667, 320) dtype=float32>\n",
      "  <tf.Variable 'Embeddings/sharded_7:0' shape=(26667, 320) dtype=float32>\n",
      "  <tf.Variable 'Embeddings/sharded_8:0' shape=(26667, 320) dtype=float32>\n",
      "  <tf.Variable 'Embeddings/sharded_9:0' shape=(26667, 320) dtype=float32>\n",
      "  <tf.Variable 'Embeddings/sharded_10:0' shape=(26667, 320) dtype=float32>\n",
      "  <tf.Variable 'Embeddings/sharded_11:0' shape=(26667, 320) dtype=float32>\n",
      "  <tf.Variable 'Embeddings/sharded_12:0' shape=(26667, 320) dtype=float32>\n",
      "  <tf.Variable 'Embeddings/sharded_13:0' shape=(26667, 320) dtype=float32>\n",
      "  <tf.Variable 'Embeddings/sharded_14:0' shape=(26667, 320) dtype=float32>\n",
      "  <tf.Variable 'Embeddings/sharded_15:0' shape=(26667, 320) dtype=float32>\n",
      "  <tf.Variable 'Embeddings/sharded_16:0' shape=(26667, 320) dtype=float32>\n",
      "  <tf.Variable 'Embeddings/sharded_17:0' shape=(26667, 320) dtype=float32>\n",
      "  <tf.Variable 'Embeddings/sharded_18:0' shape=(26667, 320) dtype=float32>\n",
      "  <tf.Variable 'Embeddings/sharded_19:0' shape=(26667, 320) dtype=float32>\n",
      "  <tf.Variable 'Embeddings/sharded_20:0' shape=(26667, 320) dtype=float32>\n",
      "  <tf.Variable 'Embeddings/sharded_21:0' shape=(26667, 320) dtype=float32>\n",
      "  <tf.Variable 'Embeddings/sharded_22:0' shape=(26667, 320) dtype=float32>\n",
      "  <tf.Variable 'Embeddings/sharded_23:0' shape=(26667, 320) dtype=float32>\n",
      "  <tf.Variable 'Embeddings/sharded_24:0' shape=(26667, 320) dtype=float32>\n",
      "  <tf.Variable 'Embeddings/sharded_25:0' shape=(26667, 320) dtype=float32>\n",
      "  <tf.Variable 'Embeddings/sharded_26:0' shape=(26667, 320) dtype=float32>\n",
      "  <tf.Variable 'Embeddings/sharded_27:0' shape=(26667, 320) dtype=float32>\n",
      "  <tf.Variable 'Embeddings/sharded_28:0' shape=(26667, 320) dtype=float32>\n",
      "  <tf.Variable 'Embeddings/sharded_29:0' shape=(26667, 320) dtype=float32>\n",
      "  <tf.Variable 'EncoderDNN/DNN/ResidualHidden_0/dense/kernel/part_0:0' shape=(11, 320) dtype=float32>\n",
      "  <tf.Variable 'EncoderDNN/DNN/ResidualHidden_0/dense/kernel/part_1:0' shape=(11, 320) dtype=float32>\n",
      "  <tf.Variable 'EncoderDNN/DNN/ResidualHidden_0/dense/kernel/part_2:0' shape=(11, 320) dtype=float32>\n",
      "  <tf.Variable 'EncoderDNN/DNN/ResidualHidden_0/dense/kernel/part_3:0' shape=(11, 320) dtype=float32>\n",
      "  <tf.Variable 'EncoderDNN/DNN/ResidualHidden_0/dense/kernel/part_4:0' shape=(11, 320) dtype=float32>\n",
      "  <tf.Variable 'EncoderDNN/DNN/ResidualHidden_0/dense/kernel/part_5:0' shape=(11, 320) dtype=float32>\n",
      "  <tf.Variable 'EncoderDNN/DNN/ResidualHidden_0/dense/kernel/part_6:0' shape=(11, 320) dtype=float32>\n",
      "  <tf.Variable 'EncoderDNN/DNN/ResidualHidden_0/dense/kernel/part_7:0' shape=(11, 320) dtype=float32>\n",
      "  <tf.Variable 'EncoderDNN/DNN/ResidualHidden_0/dense/kernel/part_8:0' shape=(11, 320) dtype=float32>\n",
      "  <tf.Variable 'EncoderDNN/DNN/ResidualHidden_0/dense/kernel/part_9:0' shape=(11, 320) dtype=float32>\n",
      "  <tf.Variable 'EncoderDNN/DNN/ResidualHidden_0/dense/kernel/part_10:0' shape=(11, 320) dtype=float32>\n",
      "  <tf.Variable 'EncoderDNN/DNN/ResidualHidden_0/dense/kernel/part_11:0' shape=(11, 320) dtype=float32>\n",
      "  <tf.Variable 'EncoderDNN/DNN/ResidualHidden_0/dense/kernel/part_12:0' shape=(11, 320) dtype=float32>\n",
      "  <tf.Variable 'EncoderDNN/DNN/ResidualHidden_0/dense/kernel/part_13:0' shape=(11, 320) dtype=float32>\n",
      "  <tf.Variable 'EncoderDNN/DNN/ResidualHidden_0/dense/kernel/part_14:0' shape=(11, 320) dtype=float32>\n",
      "  <tf.Variable 'EncoderDNN/DNN/ResidualHidden_0/dense/kernel/part_15:0' shape=(11, 320) dtype=float32>\n",
      "  <tf.Variable 'EncoderDNN/DNN/ResidualHidden_0/dense/kernel/part_16:0' shape=(11, 320) dtype=float32>\n",
      "  <tf.Variable 'EncoderDNN/DNN/ResidualHidden_0/dense/kernel/part_17:0' shape=(11, 320) dtype=float32>\n",
      "  <tf.Variable 'EncoderDNN/DNN/ResidualHidden_0/dense/kernel/part_18:0' shape=(11, 320) dtype=float32>\n",
      "  <tf.Variable 'EncoderDNN/DNN/ResidualHidden_0/dense/kernel/part_19:0' shape=(11, 320) dtype=float32>\n",
      "  <tf.Variable 'EncoderDNN/DNN/ResidualHidden_0/dense/kernel/part_20:0' shape=(10, 320) dtype=float32>\n",
      "  <tf.Variable 'EncoderDNN/DNN/ResidualHidden_0/dense/kernel/part_21:0' shape=(10, 320) dtype=float32>\n",
      "  <tf.Variable 'EncoderDNN/DNN/ResidualHidden_0/dense/kernel/part_22:0' shape=(10, 320) dtype=float32>\n",
      "  <tf.Variable 'EncoderDNN/DNN/ResidualHidden_0/dense/kernel/part_23:0' shape=(10, 320) dtype=float32>\n",
      "  <tf.Variable 'EncoderDNN/DNN/ResidualHidden_0/dense/kernel/part_24:0' shape=(10, 320) dtype=float32>\n",
      "  <tf.Variable 'EncoderDNN/DNN/ResidualHidden_0/dense/kernel/part_25:0' shape=(10, 320) dtype=float32>\n",
      "  <tf.Variable 'EncoderDNN/DNN/ResidualHidden_0/dense/kernel/part_26:0' shape=(10, 320) dtype=float32>\n",
      "  <tf.Variable 'EncoderDNN/DNN/ResidualHidden_0/dense/kernel/part_27:0' shape=(10, 320) dtype=float32>\n",
      "  <tf.Variable 'EncoderDNN/DNN/ResidualHidden_0/dense/kernel/part_28:0' shape=(10, 320) dtype=float32>\n",
      "  <tf.Variable 'EncoderDNN/DNN/ResidualHidden_0/dense/kernel/part_29:0' shape=(10, 320) dtype=float32>\n",
      "  <tf.Variable 'EncoderDNN/DNN/ResidualHidden_1/dense/kernel/part_0:0' shape=(11, 320) dtype=float32>\n",
      "  <tf.Variable 'EncoderDNN/DNN/ResidualHidden_1/dense/kernel/part_1:0' shape=(11, 320) dtype=float32>\n",
      "  <tf.Variable 'EncoderDNN/DNN/ResidualHidden_1/dense/kernel/part_2:0' shape=(11, 320) dtype=float32>\n",
      "  <tf.Variable 'EncoderDNN/DNN/ResidualHidden_1/dense/kernel/part_3:0' shape=(11, 320) dtype=float32>\n",
      "  <tf.Variable 'EncoderDNN/DNN/ResidualHidden_1/dense/kernel/part_4:0' shape=(11, 320) dtype=float32>\n",
      "  <tf.Variable 'EncoderDNN/DNN/ResidualHidden_1/dense/kernel/part_5:0' shape=(11, 320) dtype=float32>\n",
      "  <tf.Variable 'EncoderDNN/DNN/ResidualHidden_1/dense/kernel/part_6:0' shape=(11, 320) dtype=float32>\n",
      "  <tf.Variable 'EncoderDNN/DNN/ResidualHidden_1/dense/kernel/part_7:0' shape=(11, 320) dtype=float32>\n",
      "  <tf.Variable 'EncoderDNN/DNN/ResidualHidden_1/dense/kernel/part_8:0' shape=(11, 320) dtype=float32>\n",
      "  <tf.Variable 'EncoderDNN/DNN/ResidualHidden_1/dense/kernel/part_9:0' shape=(11, 320) dtype=float32>\n",
      "  <tf.Variable 'EncoderDNN/DNN/ResidualHidden_1/dense/kernel/part_10:0' shape=(11, 320) dtype=float32>\n",
      "  <tf.Variable 'EncoderDNN/DNN/ResidualHidden_1/dense/kernel/part_11:0' shape=(11, 320) dtype=float32>\n",
      "  <tf.Variable 'EncoderDNN/DNN/ResidualHidden_1/dense/kernel/part_12:0' shape=(11, 320) dtype=float32>\n",
      "  <tf.Variable 'EncoderDNN/DNN/ResidualHidden_1/dense/kernel/part_13:0' shape=(11, 320) dtype=float32>\n",
      "  <tf.Variable 'EncoderDNN/DNN/ResidualHidden_1/dense/kernel/part_14:0' shape=(11, 320) dtype=float32>\n",
      "  <tf.Variable 'EncoderDNN/DNN/ResidualHidden_1/dense/kernel/part_15:0' shape=(11, 320) dtype=float32>\n",
      "  <tf.Variable 'EncoderDNN/DNN/ResidualHidden_1/dense/kernel/part_16:0' shape=(11, 320) dtype=float32>\n",
      "  <tf.Variable 'EncoderDNN/DNN/ResidualHidden_1/dense/kernel/part_17:0' shape=(11, 320) dtype=float32>\n",
      "  <tf.Variable 'EncoderDNN/DNN/ResidualHidden_1/dense/kernel/part_18:0' shape=(11, 320) dtype=float32>\n",
      "  <tf.Variable 'EncoderDNN/DNN/ResidualHidden_1/dense/kernel/part_19:0' shape=(11, 320) dtype=float32>\n",
      "  <tf.Variable 'EncoderDNN/DNN/ResidualHidden_1/dense/kernel/part_20:0' shape=(10, 320) dtype=float32>\n",
      "  <tf.Variable 'EncoderDNN/DNN/ResidualHidden_1/dense/kernel/part_21:0' shape=(10, 320) dtype=float32>\n",
      "  <tf.Variable 'EncoderDNN/DNN/ResidualHidden_1/dense/kernel/part_22:0' shape=(10, 320) dtype=float32>\n",
      "  <tf.Variable 'EncoderDNN/DNN/ResidualHidden_1/dense/kernel/part_23:0' shape=(10, 320) dtype=float32>\n",
      "  <tf.Variable 'EncoderDNN/DNN/ResidualHidden_1/dense/kernel/part_24:0' shape=(10, 320) dtype=float32>\n",
      "  <tf.Variable 'EncoderDNN/DNN/ResidualHidden_1/dense/kernel/part_25:0' shape=(10, 320) dtype=float32>\n",
      "  <tf.Variable 'EncoderDNN/DNN/ResidualHidden_1/dense/kernel/part_26:0' shape=(10, 320) dtype=float32>\n",
      "  <tf.Variable 'EncoderDNN/DNN/ResidualHidden_1/dense/kernel/part_27:0' shape=(10, 320) dtype=float32>\n",
      "  <tf.Variable 'EncoderDNN/DNN/ResidualHidden_1/dense/kernel/part_28:0' shape=(10, 320) dtype=float32>\n",
      "  <tf.Variable 'EncoderDNN/DNN/ResidualHidden_1/dense/kernel/part_29:0' shape=(10, 320) dtype=float32>\n",
      "  <tf.Variable 'EncoderDNN/DNN/ResidualHidden_2/dense/kernel/part_0:0' shape=(11, 512) dtype=float32>\n",
      "  <tf.Variable 'EncoderDNN/DNN/ResidualHidden_2/dense/kernel/part_1:0' shape=(11, 512) dtype=float32>\n",
      "  <tf.Variable 'EncoderDNN/DNN/ResidualHidden_2/dense/kernel/part_2:0' shape=(11, 512) dtype=float32>\n",
      "  <tf.Variable 'EncoderDNN/DNN/ResidualHidden_2/dense/kernel/part_3:0' shape=(11, 512) dtype=float32>\n",
      "  <tf.Variable 'EncoderDNN/DNN/ResidualHidden_2/dense/kernel/part_4:0' shape=(11, 512) dtype=float32>\n",
      "  <tf.Variable 'EncoderDNN/DNN/ResidualHidden_2/dense/kernel/part_5:0' shape=(11, 512) dtype=float32>\n",
      "  <tf.Variable 'EncoderDNN/DNN/ResidualHidden_2/dense/kernel/part_6:0' shape=(11, 512) dtype=float32>\n",
      "  <tf.Variable 'EncoderDNN/DNN/ResidualHidden_2/dense/kernel/part_7:0' shape=(11, 512) dtype=float32>\n",
      "  <tf.Variable 'EncoderDNN/DNN/ResidualHidden_2/dense/kernel/part_8:0' shape=(11, 512) dtype=float32>\n",
      "  <tf.Variable 'EncoderDNN/DNN/ResidualHidden_2/dense/kernel/part_9:0' shape=(11, 512) dtype=float32>\n",
      "  <tf.Variable 'EncoderDNN/DNN/ResidualHidden_2/dense/kernel/part_10:0' shape=(11, 512) dtype=float32>\n",
      "  <tf.Variable 'EncoderDNN/DNN/ResidualHidden_2/dense/kernel/part_11:0' shape=(11, 512) dtype=float32>\n",
      "  <tf.Variable 'EncoderDNN/DNN/ResidualHidden_2/dense/kernel/part_12:0' shape=(11, 512) dtype=float32>\n",
      "  <tf.Variable 'EncoderDNN/DNN/ResidualHidden_2/dense/kernel/part_13:0' shape=(11, 512) dtype=float32>\n",
      "  <tf.Variable 'EncoderDNN/DNN/ResidualHidden_2/dense/kernel/part_14:0' shape=(11, 512) dtype=float32>\n",
      "  <tf.Variable 'EncoderDNN/DNN/ResidualHidden_2/dense/kernel/part_15:0' shape=(11, 512) dtype=float32>\n",
      "  <tf.Variable 'EncoderDNN/DNN/ResidualHidden_2/dense/kernel/part_16:0' shape=(11, 512) dtype=float32>\n",
      "  <tf.Variable 'EncoderDNN/DNN/ResidualHidden_2/dense/kernel/part_17:0' shape=(11, 512) dtype=float32>\n",
      "  <tf.Variable 'EncoderDNN/DNN/ResidualHidden_2/dense/kernel/part_18:0' shape=(11, 512) dtype=float32>\n",
      "  <tf.Variable 'EncoderDNN/DNN/ResidualHidden_2/dense/kernel/part_19:0' shape=(11, 512) dtype=float32>\n",
      "  <tf.Variable 'EncoderDNN/DNN/ResidualHidden_2/dense/kernel/part_20:0' shape=(10, 512) dtype=float32>\n",
      "  <tf.Variable 'EncoderDNN/DNN/ResidualHidden_2/dense/kernel/part_21:0' shape=(10, 512) dtype=float32>\n",
      "  <tf.Variable 'EncoderDNN/DNN/ResidualHidden_2/dense/kernel/part_22:0' shape=(10, 512) dtype=float32>\n",
      "  <tf.Variable 'EncoderDNN/DNN/ResidualHidden_2/dense/kernel/part_23:0' shape=(10, 512) dtype=float32>\n",
      "  <tf.Variable 'EncoderDNN/DNN/ResidualHidden_2/dense/kernel/part_24:0' shape=(10, 512) dtype=float32>\n",
      "  <tf.Variable 'EncoderDNN/DNN/ResidualHidden_2/dense/kernel/part_25:0' shape=(10, 512) dtype=float32>\n",
      "  <tf.Variable 'EncoderDNN/DNN/ResidualHidden_2/dense/kernel/part_26:0' shape=(10, 512) dtype=float32>\n",
      "  <tf.Variable 'EncoderDNN/DNN/ResidualHidden_2/dense/kernel/part_27:0' shape=(10, 512) dtype=float32>\n",
      "  <tf.Variable 'EncoderDNN/DNN/ResidualHidden_2/dense/kernel/part_28:0' shape=(10, 512) dtype=float32>\n",
      "  <tf.Variable 'EncoderDNN/DNN/ResidualHidden_2/dense/kernel/part_29:0' shape=(10, 512) dtype=float32>\n",
      "  <tf.Variable 'EncoderDNN/DNN/ResidualHidden_3/dense/kernel/part_0:0' shape=(18, 512) dtype=float32>\n",
      "  <tf.Variable 'EncoderDNN/DNN/ResidualHidden_3/dense/kernel/part_1:0' shape=(18, 512) dtype=float32>\n",
      "  <tf.Variable 'EncoderDNN/DNN/ResidualHidden_3/dense/kernel/part_2:0' shape=(17, 512) dtype=float32>\n",
      "  <tf.Variable 'EncoderDNN/DNN/ResidualHidden_3/dense/kernel/part_3:0' shape=(17, 512) dtype=float32>\n",
      "  <tf.Variable 'EncoderDNN/DNN/ResidualHidden_3/dense/kernel/part_4:0' shape=(17, 512) dtype=float32>\n",
      "  <tf.Variable 'EncoderDNN/DNN/ResidualHidden_3/dense/kernel/part_5:0' shape=(17, 512) dtype=float32>\n",
      "  <tf.Variable 'EncoderDNN/DNN/ResidualHidden_3/dense/kernel/part_6:0' shape=(17, 512) dtype=float32>\n",
      "  <tf.Variable 'EncoderDNN/DNN/ResidualHidden_3/dense/kernel/part_7:0' shape=(17, 512) dtype=float32>\n",
      "  <tf.Variable 'EncoderDNN/DNN/ResidualHidden_3/dense/kernel/part_8:0' shape=(17, 512) dtype=float32>\n",
      "  <tf.Variable 'EncoderDNN/DNN/ResidualHidden_3/dense/kernel/part_9:0' shape=(17, 512) dtype=float32>\n",
      "  <tf.Variable 'EncoderDNN/DNN/ResidualHidden_3/dense/kernel/part_10:0' shape=(17, 512) dtype=float32>\n",
      "  <tf.Variable 'EncoderDNN/DNN/ResidualHidden_3/dense/kernel/part_11:0' shape=(17, 512) dtype=float32>\n",
      "  <tf.Variable 'EncoderDNN/DNN/ResidualHidden_3/dense/kernel/part_12:0' shape=(17, 512) dtype=float32>\n",
      "  <tf.Variable 'EncoderDNN/DNN/ResidualHidden_3/dense/kernel/part_13:0' shape=(17, 512) dtype=float32>\n",
      "  <tf.Variable 'EncoderDNN/DNN/ResidualHidden_3/dense/kernel/part_14:0' shape=(17, 512) dtype=float32>\n",
      "  <tf.Variable 'EncoderDNN/DNN/ResidualHidden_3/dense/kernel/part_15:0' shape=(17, 512) dtype=float32>\n",
      "  <tf.Variable 'EncoderDNN/DNN/ResidualHidden_3/dense/kernel/part_16:0' shape=(17, 512) dtype=float32>\n",
      "  <tf.Variable 'EncoderDNN/DNN/ResidualHidden_3/dense/kernel/part_17:0' shape=(17, 512) dtype=float32>\n",
      "  <tf.Variable 'EncoderDNN/DNN/ResidualHidden_3/dense/kernel/part_18:0' shape=(17, 512) dtype=float32>\n",
      "  <tf.Variable 'EncoderDNN/DNN/ResidualHidden_3/dense/kernel/part_19:0' shape=(17, 512) dtype=float32>\n",
      "  <tf.Variable 'EncoderDNN/DNN/ResidualHidden_3/dense/kernel/part_20:0' shape=(17, 512) dtype=float32>\n",
      "  <tf.Variable 'EncoderDNN/DNN/ResidualHidden_3/dense/kernel/part_21:0' shape=(17, 512) dtype=float32>\n",
      "  <tf.Variable 'EncoderDNN/DNN/ResidualHidden_3/dense/kernel/part_22:0' shape=(17, 512) dtype=float32>\n",
      "  <tf.Variable 'EncoderDNN/DNN/ResidualHidden_3/dense/kernel/part_23:0' shape=(17, 512) dtype=float32>\n",
      "  <tf.Variable 'EncoderDNN/DNN/ResidualHidden_3/dense/kernel/part_24:0' shape=(17, 512) dtype=float32>\n",
      "  <tf.Variable 'EncoderDNN/DNN/ResidualHidden_3/dense/kernel/part_25:0' shape=(17, 512) dtype=float32>\n",
      "  <tf.Variable 'EncoderDNN/DNN/ResidualHidden_3/dense/kernel/part_26:0' shape=(17, 512) dtype=float32>\n",
      "  <tf.Variable 'EncoderDNN/DNN/ResidualHidden_3/dense/kernel/part_27:0' shape=(17, 512) dtype=float32>\n",
      "  <tf.Variable 'EncoderDNN/DNN/ResidualHidden_3/dense/kernel/part_28:0' shape=(17, 512) dtype=float32>\n",
      "  <tf.Variable 'EncoderDNN/DNN/ResidualHidden_3/dense/kernel/part_29:0' shape=(17, 512) dtype=float32>\n",
      "  <tf.Variable 'EncoderDNN/DNN/ResidualHidden_3/AdjustDepth/projection/kernel/part_0:0' shape=(11, 512) dtype=float32>\n",
      "  <tf.Variable 'EncoderDNN/DNN/ResidualHidden_3/AdjustDepth/projection/kernel/part_1:0' shape=(11, 512) dtype=float32>\n",
      "  <tf.Variable 'EncoderDNN/DNN/ResidualHidden_3/AdjustDepth/projection/kernel/part_2:0' shape=(11, 512) dtype=float32>\n",
      "  <tf.Variable 'EncoderDNN/DNN/ResidualHidden_3/AdjustDepth/projection/kernel/part_3:0' shape=(11, 512) dtype=float32>\n",
      "  <tf.Variable 'EncoderDNN/DNN/ResidualHidden_3/AdjustDepth/projection/kernel/part_4:0' shape=(11, 512) dtype=float32>\n",
      "  <tf.Variable 'EncoderDNN/DNN/ResidualHidden_3/AdjustDepth/projection/kernel/part_5:0' shape=(11, 512) dtype=float32>\n",
      "  <tf.Variable 'EncoderDNN/DNN/ResidualHidden_3/AdjustDepth/projection/kernel/part_6:0' shape=(11, 512) dtype=float32>\n",
      "  <tf.Variable 'EncoderDNN/DNN/ResidualHidden_3/AdjustDepth/projection/kernel/part_7:0' shape=(11, 512) dtype=float32>\n",
      "  <tf.Variable 'EncoderDNN/DNN/ResidualHidden_3/AdjustDepth/projection/kernel/part_8:0' shape=(11, 512) dtype=float32>\n",
      "  <tf.Variable 'EncoderDNN/DNN/ResidualHidden_3/AdjustDepth/projection/kernel/part_9:0' shape=(11, 512) dtype=float32>\n",
      "  <tf.Variable 'EncoderDNN/DNN/ResidualHidden_3/AdjustDepth/projection/kernel/part_10:0' shape=(11, 512) dtype=float32>\n",
      "  <tf.Variable 'EncoderDNN/DNN/ResidualHidden_3/AdjustDepth/projection/kernel/part_11:0' shape=(11, 512) dtype=float32>\n",
      "  <tf.Variable 'EncoderDNN/DNN/ResidualHidden_3/AdjustDepth/projection/kernel/part_12:0' shape=(11, 512) dtype=float32>\n",
      "  <tf.Variable 'EncoderDNN/DNN/ResidualHidden_3/AdjustDepth/projection/kernel/part_13:0' shape=(11, 512) dtype=float32>\n",
      "  <tf.Variable 'EncoderDNN/DNN/ResidualHidden_3/AdjustDepth/projection/kernel/part_14:0' shape=(11, 512) dtype=float32>\n",
      "  <tf.Variable 'EncoderDNN/DNN/ResidualHidden_3/AdjustDepth/projection/kernel/part_15:0' shape=(11, 512) dtype=float32>\n",
      "  <tf.Variable 'EncoderDNN/DNN/ResidualHidden_3/AdjustDepth/projection/kernel/part_16:0' shape=(11, 512) dtype=float32>\n",
      "  <tf.Variable 'EncoderDNN/DNN/ResidualHidden_3/AdjustDepth/projection/kernel/part_17:0' shape=(11, 512) dtype=float32>\n",
      "  <tf.Variable 'EncoderDNN/DNN/ResidualHidden_3/AdjustDepth/projection/kernel/part_18:0' shape=(11, 512) dtype=float32>\n",
      "  <tf.Variable 'EncoderDNN/DNN/ResidualHidden_3/AdjustDepth/projection/kernel/part_19:0' shape=(11, 512) dtype=float32>\n",
      "  <tf.Variable 'EncoderDNN/DNN/ResidualHidden_3/AdjustDepth/projection/kernel/part_20:0' shape=(10, 512) dtype=float32>\n",
      "  <tf.Variable 'EncoderDNN/DNN/ResidualHidden_3/AdjustDepth/projection/kernel/part_21:0' shape=(10, 512) dtype=float32>\n",
      "  <tf.Variable 'EncoderDNN/DNN/ResidualHidden_3/AdjustDepth/projection/kernel/part_22:0' shape=(10, 512) dtype=float32>\n",
      "  <tf.Variable 'EncoderDNN/DNN/ResidualHidden_3/AdjustDepth/projection/kernel/part_23:0' shape=(10, 512) dtype=float32>\n",
      "  <tf.Variable 'EncoderDNN/DNN/ResidualHidden_3/AdjustDepth/projection/kernel/part_24:0' shape=(10, 512) dtype=float32>\n",
      "  <tf.Variable 'EncoderDNN/DNN/ResidualHidden_3/AdjustDepth/projection/kernel/part_25:0' shape=(10, 512) dtype=float32>\n",
      "  <tf.Variable 'EncoderDNN/DNN/ResidualHidden_3/AdjustDepth/projection/kernel/part_26:0' shape=(10, 512) dtype=float32>\n",
      "  <tf.Variable 'EncoderDNN/DNN/ResidualHidden_3/AdjustDepth/projection/kernel/part_27:0' shape=(10, 512) dtype=float32>\n",
      "  <tf.Variable 'EncoderDNN/DNN/ResidualHidden_3/AdjustDepth/projection/kernel/part_28:0' shape=(10, 512) dtype=float32>\n",
      "  <tf.Variable 'EncoderDNN/DNN/ResidualHidden_3/AdjustDepth/projection/kernel/part_29:0' shape=(10, 512) dtype=float32>\n",
      "It is possible that this is intended behavior, but it is more likely\n",
      "an omission. This is a strong indication that this layer should be\n",
      "formulated as a subclassed Layer rather than a Lambda layer.\n"
     ]
    }
   ],
   "source": [
    "from tensorflow.keras import layers\n",
    "\n",
    "inputs = layers.Input(shape=(1,), dtype = tf.string)\n",
    "embedding = layers.Lambda(embedding_func, output_shape = (512,))(inputs)\n",
    "x = layers.Dense(256, activation = \"relu\")(embedding)\n",
    "outputs = layers.Dense(2, activation = \"softmax\")(x)\n",
    "\n",
    "model = tf.keras.Model(inputs, outputs)"
   ]
  },
  {
   "cell_type": "code",
   "execution_count": 37,
   "id": "ebaa9ebc",
   "metadata": {},
   "outputs": [
    {
     "name": "stdout",
     "output_type": "stream",
     "text": [
      "Model: \"model\"\n",
      "_________________________________________________________________\n",
      " Layer (type)                Output Shape              Param #   \n",
      "=================================================================\n",
      " input_4 (InputLayer)        [(None, 1)]               0         \n",
      "                                                                 \n",
      " lambda_2 (Lambda)           (None, 512)               0         \n",
      "                                                                 \n",
      " dense (Dense)               (None, 256)               131328    \n",
      "                                                                 \n",
      " dense_1 (Dense)             (None, 2)                 514       \n",
      "                                                                 \n",
      "=================================================================\n",
      "Total params: 131,842\n",
      "Trainable params: 131,842\n",
      "Non-trainable params: 0\n",
      "_________________________________________________________________\n"
     ]
    }
   ],
   "source": [
    "model.summary()"
   ]
  },
  {
   "cell_type": "markdown",
   "id": "c8907e7f",
   "metadata": {},
   "source": [
    "## Compiling the Model"
   ]
  },
  {
   "cell_type": "code",
   "execution_count": 38,
   "id": "5f4023bd",
   "metadata": {},
   "outputs": [],
   "source": [
    "model.compile(loss = 'categorical_crossentropy',optimizer ='adam', metrics=['accuracy'])"
   ]
  },
  {
   "cell_type": "code",
   "execution_count": 40,
   "id": "303ff29d",
   "metadata": {},
   "outputs": [
    {
     "name": "stdout",
     "output_type": "stream",
     "text": [
      "Epoch 1/5\n"
     ]
    },
    {
     "name": "stderr",
     "output_type": "stream",
     "text": [
      "C:\\Users\\Shoaib\\AppData\\Roaming\\Python\\Python38\\site-packages\\tensorflow\\python\\framework\\indexed_slices.py:448: UserWarning: Converting sparse IndexedSlices(IndexedSlices(indices=Tensor(\"gradients/EncoderDNN/EmbeddingLookup/EmbeddingLookupUnique/GatherV2_grad/Reshape_1:0\", shape=(None,), dtype=int32), values=Tensor(\"gradients/EncoderDNN/EmbeddingLookup/EmbeddingLookupUnique/GatherV2_grad/Reshape:0\", shape=(None, 320), dtype=float32), dense_shape=Tensor(\"gradients/EncoderDNN/EmbeddingLookup/EmbeddingLookupUnique/GatherV2_grad/Cast:0\", shape=(2,), dtype=int32))) to a dense Tensor of unknown shape. This may consume a large amount of memory.\n",
      "  warnings.warn(\n"
     ]
    },
    {
     "name": "stdout",
     "output_type": "stream",
     "text": [
      "40/40 [==============================] - 10s 153ms/step - loss: 0.3387 - accuracy: 0.8890\n",
      "Epoch 2/5\n",
      "40/40 [==============================] - 1s 29ms/step - loss: 0.0917 - accuracy: 0.9774\n",
      "Epoch 3/5\n",
      "40/40 [==============================] - 1s 26ms/step - loss: 0.0578 - accuracy: 0.9844\n",
      "Epoch 4/5\n",
      "40/40 [==============================] - 1s 26ms/step - loss: 0.0462 - accuracy: 0.9872\n",
      "Epoch 5/5\n",
      "40/40 [==============================] - 1s 24ms/step - loss: 0.0396 - accuracy: 0.9888\n"
     ]
    },
    {
     "data": {
      "text/plain": [
       "<keras.callbacks.History at 0x1bda0b54a90>"
      ]
     },
     "execution_count": 40,
     "metadata": {},
     "output_type": "execute_result"
    }
   ],
   "source": [
    "# fitting data to the model\n",
    "\n",
    "model.fit(X_train, y_train,\n",
    "          batch_size = 128,\n",
    "          epochs = 5,\n",
    "          )"
   ]
  },
  {
   "cell_type": "code",
   "execution_count": 41,
   "id": "6a91967d",
   "metadata": {},
   "outputs": [
    {
     "name": "stdout",
     "output_type": "stream",
     "text": [
      "18/18 [==============================] - 2s 20ms/step - loss: 0.0362 - accuracy: 0.9825\n"
     ]
    },
    {
     "data": {
      "text/plain": [
       "[0.0361747108399868, 0.9825174808502197]"
      ]
     },
     "execution_count": 41,
     "metadata": {},
     "output_type": "execute_result"
    }
   ],
   "source": [
    "model.evaluate(X_test,y_test)"
   ]
  },
  {
   "cell_type": "code",
   "execution_count": 46,
   "id": "e871f214",
   "metadata": {},
   "outputs": [],
   "source": [
    "pred = model.predict(X_test)\n",
    "y_pred= decoding(encod,pred)"
   ]
  },
  {
   "cell_type": "code",
   "execution_count": 48,
   "id": "23dfb905",
   "metadata": {},
   "outputs": [],
   "source": [
    "y_test_decode = decoding(encod, y_test)\n"
   ]
  },
  {
   "cell_type": "code",
   "execution_count": 49,
   "id": "d92fca3f",
   "metadata": {},
   "outputs": [],
   "source": [
    "from sklearn.metrics import confusion_matrix"
   ]
  },
  {
   "cell_type": "code",
   "execution_count": 50,
   "id": "0ee3b427",
   "metadata": {},
   "outputs": [
    {
     "data": {
      "text/plain": [
       "array([[494,   4],\n",
       "       [  6,  68]], dtype=int64)"
      ]
     },
     "execution_count": 50,
     "metadata": {},
     "output_type": "execute_result"
    }
   ],
   "source": [
    "cm = confusion_matrix(y_test_decode, y_pred)\n",
    "cm"
   ]
  },
  {
   "cell_type": "code",
   "execution_count": 51,
   "id": "8b8c1046",
   "metadata": {},
   "outputs": [
    {
     "data": {
      "image/png": "[encoded data removed]",
      "text/plain": [
       "<Figure size 720x360 with 2 Axes>"
      ]
     },
     "metadata": {
      "needs_background": "light"
     },
     "output_type": "display_data"
    }
   ],
   "source": [
    "import seaborn as sns\n",
    "plt.figure(figsize=(10,5))\n",
    "sns.heatmap(cm , annot=True)\n",
    "plt.show()"
   ]
  }
 ],
 "metadata": {
  "kernelspec": {
   "display_name": "Python 3",
   "language": "python",
   "name": "python3"
  },
  "language_info": {
   "codemirror_mode": {
    "name": "ipython",
    "version": 3
   },
   "file_extension": ".py",
   "mimetype": "text/x-python",
   "name": "python",
   "nbconvert_exporter": "python",
   "pygments_lexer": "ipython3",
   "version": "3.8.8"
  }
 },
 "nbformat": 4,
 "nbformat_minor": 5
}
